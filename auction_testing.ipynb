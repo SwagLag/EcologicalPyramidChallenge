{
 "cells": [
  {
   "cell_type": "code",
   "execution_count": 4,
   "metadata": {},
   "outputs": [],
   "source": [
    "import numpy as np\n",
    "import pandas as pd"
   ]
  },
  {
   "cell_type": "code",
   "execution_count": 8,
   "metadata": {},
   "outputs": [
    {
     "ename": "SyntaxError",
     "evalue": "invalid syntax (Temp/ipykernel_2436/3022440779.py, line 3)",
     "output_type": "error",
     "traceback": [
      "\u001b[1;36m  File \u001b[1;32m\"C:\\Users\\gvand\\AppData\\Local\\Temp/ipykernel_2436/3022440779.py\"\u001b[1;36m, line \u001b[1;32m3\u001b[0m\n\u001b[1;33m    return break\u001b[0m\n\u001b[1;37m           ^\u001b[0m\n\u001b[1;31mSyntaxError\u001b[0m\u001b[1;31m:\u001b[0m invalid syntax\n"
     ]
    }
   ],
   "source": [
    "def get_task(df):\n",
    "    y = df.max()\n",
    "    maxi = max(y.values)\n",
    "    agent = y.idxmax()\n",
    "    task = df[agent].idxmax()\n",
    "    return task\n",
    "\n",
    "def get_bid(df, agent, task):\n",
    "    if len(df[agent]) > 1:\n",
    "        return max(0,df[agent][task] - df[agent].nlargest(2)[-1:].values[0])\n",
    "    else:\n",
    "        return max(0,df[agent][task])\n",
    "\n",
    "def best_bid(df, task):\n",
    "    highest_bid = {'agent':None, 'bid':-1}\n",
    "    for agent in df.columns:\n",
    "        bid = get_bid(df, agent, task)\n",
    "        if bid > highest_bid['bid']:\n",
    "            highest_bid['agent'] = agent\n",
    "            highest_bid['bid'] = bid\n",
    "            \n",
    "    return highest_bid\n",
    "\n",
    "def skim_df(df, agent, task):\n",
    "    x = df.drop(agent, axis=1)\n",
    "    x = x.drop(task, axis=0)\n",
    "    return x"
   ]
  },
  {
   "cell_type": "code",
   "execution_count": 9,
   "metadata": {},
   "outputs": [],
   "source": [
    "def assign_tasks(df):\n",
    "    assignments = []\n",
    "\n",
    "    while True:\n",
    "        if df.shape == (0,len(df.columns)):\n",
    "            break\n",
    "        task = get_task(df)\n",
    "        bb = best_bid(df, task)\n",
    "        assignments.append((bb['agent'], task))\n",
    "        print(bb['agent'])\n",
    "        df = skim_df(df, bb['agent'], task)\n",
    "    return assignments"
   ]
  },
  {
   "cell_type": "code",
   "execution_count": 10,
   "metadata": {},
   "outputs": [
    {
     "name": "stdout",
     "output_type": "stream",
     "text": [
      "hallo!\n",
      "a2\n",
      "hallo!\n",
      "a1\n",
      "hallo!\n",
      "a3\n"
     ]
    },
    {
     "data": {
      "text/plain": [
       "[('a2', 1), ('a1', 2), ('a3', 0)]"
      ]
     },
     "execution_count": 10,
     "metadata": {},
     "output_type": "execute_result"
    }
   ],
   "source": [
    "x1 = ['a1', 'a2', 'a3']\n",
    "x2 = [[1, 2, 3], [50, 40, 10], [45, 1, 10]]\n",
    "df = pd.DataFrame(x2, columns=x1)\n",
    "df\n",
    "assign_tasks(df)"
   ]
  },
  {
   "cell_type": "code",
   "execution_count": null,
   "metadata": {},
   "outputs": [],
   "source": []
  },
  {
   "cell_type": "code",
   "execution_count": null,
   "metadata": {},
   "outputs": [],
   "source": []
  }
 ],
 "metadata": {
  "kernelspec": {
   "display_name": "Python 3 (ipykernel)",
   "language": "python",
   "name": "python3"
  },
  "language_info": {
   "codemirror_mode": {
    "name": "ipython",
    "version": 3
   },
   "file_extension": ".py",
   "mimetype": "text/x-python",
   "name": "python",
   "nbconvert_exporter": "python",
   "pygments_lexer": "ipython3",
   "version": "3.8.5"
  }
 },
 "nbformat": 4,
 "nbformat_minor": 1
}
