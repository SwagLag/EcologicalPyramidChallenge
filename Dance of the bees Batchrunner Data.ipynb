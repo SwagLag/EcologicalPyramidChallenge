{
 "cells": [
  {
   "cell_type": "markdown",
   "id": "f3db4963",
   "metadata": {},
   "source": [
    "# Dance of the bees\n",
    "Batchrunner Data\n",
    "\n",
    "Door Roeland Oostdam, Thijme de Bruijn, Gerrit van de Bunt\n",
    "\n",
    "ABD Challenge"
   ]
  },
  {
   "cell_type": "markdown",
   "id": "161ffc3d",
   "metadata": {},
   "source": [
    "# Gebruiksaanwijzing;\n",
    "1. **Geef het absolute pad op naar de folder waar de folder 'IntelligentBeesChallenge' zich in bevindt.**\n",
    "2. Stel parameters op voor de simulatie, deze kan je onderverdelen in variable en fixed parameters die je hier ook onder kan definieren. **Let op: voor variable parameters moet je een range object opgeven**\n",
    "3. Zorg ervoor dat alle parameters zijn ingedeeld in of variable of fixed parameters en run dan alle cells."
   ]
  },
  {
   "cell_type": "markdown",
   "id": "c1d8da28",
   "metadata": {},
   "source": [
    "# Parameters:\n",
    "\"height\" : Hoogte van de grid van de omgeving \\\n",
    "\"width : Breedte van de grid van de omgeving \\\n",
    "\"init_bees\" : Aantal bijen in de omgeving aan het begin \\\n",
    "\"init_flowers\" : Aantal bloemvelden in de omgeving aan het begin \\\n",
    "\"min_nectar\" : Minimale hoeveelheid nectar beschikbaar in bloemvelden \\\n",
    "\"max_nectar\" : Maximale hoeveelheid nectar beschikbaar in bloemvelden \\\n",
    "\"init_min_nectar_grade\" : Minimale kwaliteit nectar wat kan voorkomen \\\n",
    "\"init_max_nectar_grade\" : Maximale kwaliteit nectar wat kan voorkome \\\n",
    "\"nectar_respawn_interval\" : Aantal timesteps dat minimaal verstrijkt voordat nectar terug komt op een bloemenveld \\\n",
    "\"max_bee_energy\" : Capaciteit energie die een bij kan hebben nadat hij bij een bijenkorf geweest is en aan het begin \\\n",
    "\"collect_negative_value_nectar\" : Collect negative value nectar (?) \\\n",
    "\"perception_range\" : Hoe ver de bij kan zien om bloemenvelden/nectar te identificeren en op te slaan in memory."
   ]
  },
  {
   "cell_type": "code",
   "execution_count": 20,
   "id": "65f23cf7",
   "metadata": {},
   "outputs": [],
   "source": [
    "# BATCHRUNNER PARAMS\n",
    "\n",
    "# Voorbeeld:\n",
    "# Als dit het pad is waar de notebook zich in bevindt;\n",
    "# C:\\Users\\gvand\\Projecten\\Pycharm\\ABD\\IntelligentBeesChallenge\\Dance of the bees Batchrunner Data.ipynb\n",
    "# Geef dan dit op als project path:\n",
    "# proj_path = r\"C:\\Users\\gvand\\Projecten\\Pycharm\\ABD\"\n",
    "\n",
    "proj_path = r\"C:\\Users\\gvand\\Projecten\\Pycharm\\ABD\"\n",
    "\n",
    "fixed_params = {\n",
    "    \"height\": 20,\n",
    "    \"width\": 20,\n",
    "    \"init_bees\": 1,\n",
    "    \"init_flowers\": 10,\n",
    "    \"min_flower_distance\": 8,\n",
    "    \"init_min_nectar_grade\": 20,\n",
    "    \"init_max_nectar_grade\": 40,\n",
    "    \"min_nectar\": 2,\n",
    "    \"max_nectar\": 2,\n",
    "    \"nectar_respawn_interval\": 100,\n",
    "    \"collect_negative_value_nectar\": False,\n",
    "    \"perception_range\": 1,\n",
    "    \"max_bee_energy\": 50, \n",
    "}\n",
    "\n",
    "variable_params = {\n",
    "    \"max_clue_radius\": [0, 5, 10, 15, 20]\n",
    "}"
   ]
  },
  {
   "cell_type": "code",
   "execution_count": 21,
   "id": "797b3619",
   "metadata": {},
   "outputs": [],
   "source": [
    "# Zet content root op om import problemen te voorkomen\n",
    "import sys\n",
    "sys.path.insert(1, proj_path)"
   ]
  },
  {
   "cell_type": "code",
   "execution_count": 22,
   "id": "f5605f71",
   "metadata": {},
   "outputs": [],
   "source": [
    "# Importeer benodigde onderdelen voor de batchrunner\n",
    "from mesa.batchrunner import BatchRunner, BatchRunnerMP\n",
    "from bee_simulation.model import BeeSimulation, get_nectar_per_t, get_bee_energy, get_hive_energy, \\\n",
    "    get_nectar_collected, get_steps"
   ]
  },
  {
   "cell_type": "code",
   "execution_count": 23,
   "id": "05df391e",
   "metadata": {
    "scrolled": true
   },
   "outputs": [
    {
     "name": "stdout",
     "output_type": "stream",
     "text": [
      "BatchRunner MP will use 12 processors.\n"
     ]
    },
    {
     "name": "stderr",
     "output_type": "stream",
     "text": [
      "500it [02:05,  3.98it/s]\n"
     ]
    }
   ],
   "source": [
    "batch_run = BatchRunnerMP(BeeSimulation,\n",
    "                        variable_parameters=variable_params,\n",
    "                        fixed_parameters=fixed_params,\n",
    "                        iterations=100,\n",
    "                        max_steps=1000,\n",
    "                        model_reporters={\n",
    "                            \"Nectar/T\": get_nectar_per_t,\n",
    "                            \"Bee energy\": get_bee_energy,\n",
    "                            \"Nectar stored\": get_hive_energy,\n",
    "                            \"Nectar Collected\": get_nectar_collected,\n",
    "                            \"Steps past\": get_steps,\n",
    "                        })\n",
    "batch_run.run_all()\n",
    "model_data = batch_run.get_model_vars_dataframe()\n",
    "collector_data = batch_run.get_collector_model()"
   ]
  },
  {
   "cell_type": "code",
   "execution_count": 24,
   "id": "07c46951",
   "metadata": {},
   "outputs": [
    {
     "data": {
      "text/html": [
       "<div>\n",
       "<style scoped>\n",
       "    .dataframe tbody tr th:only-of-type {\n",
       "        vertical-align: middle;\n",
       "    }\n",
       "\n",
       "    .dataframe tbody tr th {\n",
       "        vertical-align: top;\n",
       "    }\n",
       "\n",
       "    .dataframe thead th {\n",
       "        text-align: right;\n",
       "    }\n",
       "</style>\n",
       "<table border=\"1\" class=\"dataframe\">\n",
       "  <thead>\n",
       "    <tr style=\"text-align: right;\">\n",
       "      <th></th>\n",
       "      <th>Steps past</th>\n",
       "    </tr>\n",
       "    <tr>\n",
       "      <th>max_clue_radius</th>\n",
       "      <th></th>\n",
       "    </tr>\n",
       "  </thead>\n",
       "  <tbody>\n",
       "    <tr>\n",
       "      <th>0</th>\n",
       "      <td>357.84</td>\n",
       "    </tr>\n",
       "    <tr>\n",
       "      <th>5</th>\n",
       "      <td>217.01</td>\n",
       "    </tr>\n",
       "    <tr>\n",
       "      <th>10</th>\n",
       "      <td>162.23</td>\n",
       "    </tr>\n",
       "    <tr>\n",
       "      <th>15</th>\n",
       "      <td>165.84</td>\n",
       "    </tr>\n",
       "    <tr>\n",
       "      <th>20</th>\n",
       "      <td>220.19</td>\n",
       "    </tr>\n",
       "  </tbody>\n",
       "</table>\n",
       "</div>"
      ],
      "text/plain": [
       "                 Steps past\n",
       "max_clue_radius            \n",
       "0                    357.84\n",
       "5                    217.01\n",
       "10                   162.23\n",
       "15                   165.84\n",
       "20                   220.19"
      ]
     },
     "execution_count": 24,
     "metadata": {},
     "output_type": "execute_result"
    }
   ],
   "source": [
    "data = model_data[['Steps past','max_clue_radius']].groupby(['max_clue_radius']).mean()\n",
    "data"
   ]
  },
  {
   "cell_type": "code",
   "execution_count": 25,
   "id": "f266d564",
   "metadata": {},
   "outputs": [
    {
     "data": {
      "text/plain": [
       "array([[<AxesSubplot:title={'center':'Steps past'}>]], dtype=object)"
      ]
     },
     "execution_count": 25,
     "metadata": {},
     "output_type": "execute_result"
    },
    {
     "data": {
      "image/png": "[encoded data removed]",
      "text/plain": [
       "<Figure size 432x288 with 1 Axes>"
      ]
     },
     "metadata": {
      "needs_background": "light"
     },
     "output_type": "display_data"
    }
   ],
   "source": [
    "import matplotlib.pyplot as plt\n",
    "df = model_data[[\"Steps past\"]]\n",
    "fig = plt.Figure(figsize=[500,500])\n",
    "df.hist(bins=100, cumulative=-1)"
   ]
  },
  {
   "cell_type": "code",
   "execution_count": null,
   "id": "6e5878dc",
   "metadata": {},
   "outputs": [],
   "source": [
    "df"
   ]
  },
  {
   "cell_type": "code",
   "execution_count": null,
   "id": "33b86db8",
   "metadata": {},
   "outputs": [],
   "source": [
    "collector_data"
   ]
  },
  {
   "cell_type": "code",
   "execution_count": null,
   "id": "ef58e1b3",
   "metadata": {},
   "outputs": [],
   "source": []
  }
 ],
 "metadata": {
  "kernelspec": {
   "display_name": "Python 3 (ipykernel)",
   "language": "python",
   "name": "python3"
  },
  "language_info": {
   "codemirror_mode": {
    "name": "ipython",
    "version": 3
   },
   "file_extension": ".py",
   "mimetype": "text/x-python",
   "name": "python",
   "nbconvert_exporter": "python",
   "pygments_lexer": "ipython3",
   "version": "3.9.7"
  }
 },
 "nbformat": 4,
 "nbformat_minor": 5
}
