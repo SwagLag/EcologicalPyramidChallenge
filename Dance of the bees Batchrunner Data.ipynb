{
 "cells": [
  {
   "cell_type": "markdown",
   "id": "f3db4963",
   "metadata": {},
   "source": [
    "# Dance of the bees\n",
    "Batchrunner Data\n",
    "\n",
    "Door Roeland Oostdam, Thijme de Bruijn, Gerrit van de Bunt\n",
    "\n",
    "ABD Challenge"
   ]
  },
  {
   "cell_type": "markdown",
   "id": "161ffc3d",
   "metadata": {},
   "source": [
    "# Gebruiksaanwijzing;\n",
    "1. **Geef het absolute pad op naar de folder waar de folder 'IntelligentBeesChallenge' zich in bevindt.**\n",
    "2. Stel parameters op voor de simulatie, deze kan je onderverdelen in variable en fixed parameters die je hier ook onder kan definieren. **Let op: voor variable parameters moet je een range object opgeven**\n",
    "3. Zorg ervoor dat alle parameters zijn ingedeeld in of variable of fixed parameters en run dan alle cells."
   ]
  },
  {
   "cell_type": "markdown",
   "id": "c1d8da28",
   "metadata": {},
   "source": [
    "# Parameters:\n",
    "\"height\" : Hoogte van de grid van de omgeving \\\n",
    "\"width : Breedte van de grid van de omgeving \\\n",
    "\"init_bees\" : Aantal bijen in de omgeving aan het begin \\\n",
    "\"init_flowers\" : Aantal bloemvelden in de omgeving aan het begin \\\n",
    "\"min_nectar\" : Minimale hoeveelheid nectar beschikbaar in bloemvelden \\\n",
    "\"max_nectar\" : Maximale hoeveelheid nectar beschikbaar in bloemvelden \\\n",
    "\"init_min_nectar_grade\" : Minimale kwaliteit nectar wat kan voorkomen \\\n",
    "\"init_max_nectar_grade\" : Maximale kwaliteit nectar wat kan voorkome \\\n",
    "\"nectar_respawn_interval\" : Aantal timesteps dat minimaal verstrijkt voordat nectar terug komt op een bloemenveld \\\n",
    "\"max_bee_energy\" : Capaciteit energie die een bij kan hebben nadat hij bij een bijenkorf geweest is en aan het begin \\\n",
    "\"collect_negative_value_nectar\" : Collect negative value nectar (?) \\\n",
    "\"perception_range\" : Hoe ver de bij kan zien om bloemenvelden/nectar te identificeren en op te slaan in memory."
   ]
  },
  {
   "cell_type": "code",
   "execution_count": 32,
   "id": "65f23cf7",
   "metadata": {},
   "outputs": [],
   "source": [
    "# BATCHRUNNER PARAMS\n",
    "\n",
    "# Voorbeeld:\n",
    "# Als dit het pad is waar de notebook zich in bevindt;\n",
    "# C:\\Users\\gvand\\Projecten\\Pycharm\\ABD\\IntelligentBeesChallenge\\Dance of the bees Batchrunner Data.ipynb\n",
    "# Geef dan dit op als project path:\n",
    "# proj_path = r\"C:\\Users\\gvand\\Projecten\\Pycharm\\ABD\"\n",
    "\n",
    "proj_path = r\"C:\\Users\\gvand\\Projecten\\Pycharm\\ABD\"\n",
    "\n",
    "fixed_params = {\n",
    "    \"height\": 20,\n",
    "    \"width\": 20,\n",
    "    \"init_bees\": 1,\n",
    "    \"min_flower_distance\": 8,\n",
    "    \"init_min_nectar_grade\": 20,\n",
    "    \"init_max_nectar_grade\": 40,\n",
    "    \"min_nectar\": 2,\n",
    "    \"max_nectar\": 2,\n",
    "    \"nectar_respawn_interval\": 100,\n",
    "    \"collect_negative_value_nectar\": False,\n",
    "    \"perception_range\": 1,\n",
    "    \"max_bee_energy\": 50, \n",
    "}\n",
    "\n",
    "variable_params = {\n",
    "    \"init_flowers\": [3,5,7,9],\n",
    "    \"max_clue_radius\": [0, 5, 10, 15, 20]\n",
    "}"
   ]
  },
  {
   "cell_type": "code",
   "execution_count": 33,
   "id": "797b3619",
   "metadata": {},
   "outputs": [],
   "source": [
    "# Zet content root op om import problemen te voorkomen\n",
    "import sys\n",
    "sys.path.insert(1, proj_path)"
   ]
  },
  {
   "cell_type": "code",
   "execution_count": 34,
   "id": "f5605f71",
   "metadata": {},
   "outputs": [],
   "source": [
    "# Importeer benodigde onderdelen voor de batchrunner\n",
    "from mesa.batchrunner import BatchRunner, BatchRunnerMP\n",
    "from bee_simulation.model import BeeSimulation, get_nectar_per_t, get_bee_energy, get_hive_energy, \\\n",
    "    get_nectar_collected, get_steps"
   ]
  },
  {
   "cell_type": "code",
   "execution_count": 35,
   "id": "05df391e",
   "metadata": {
    "scrolled": true
   },
   "outputs": [
    {
     "name": "stdout",
     "output_type": "stream",
     "text": [
      "BatchRunner MP will use 12 processors.\n"
     ]
    },
    {
     "name": "stderr",
     "output_type": "stream",
     "text": [
      "1000it [01:56,  8.58it/s]\n"
     ]
    }
   ],
   "source": [
    "batch_run = BatchRunnerMP(BeeSimulation,\n",
    "                        nr_processes=10\n",
    "                        variable_parameters=variable_params,\n",
    "                        fixed_parameters=fixed_params,\n",
    "                        iterations=100,\n",
    "                        max_steps=500,\n",
    "                        model_reporters={\n",
    "                            \"Nectar/T\": get_nectar_per_t,\n",
    "                            \"Bee energy\": get_bee_energy,\n",
    "                            \"Nectar stored\": get_hive_energy,\n",
    "                            \"Nectar Collected\": get_nectar_collected,\n",
    "                            \"Steps past\": get_steps,\n",
    "                        })\n",
    "batch_run.run_all()\n",
    "model_data = batch_run.get_model_vars_dataframe()\n",
    "collector_data = batch_run.get_collector_model()"
   ]
  },
  {
   "cell_type": "code",
   "execution_count": 224,
   "id": "07c46951",
   "metadata": {},
   "outputs": [
    {
     "data": {
      "text/html": [
       "<div>\n",
       "<style scoped>\n",
       "    .dataframe tbody tr th:only-of-type {\n",
       "        vertical-align: middle;\n",
       "    }\n",
       "\n",
       "    .dataframe tbody tr th {\n",
       "        vertical-align: top;\n",
       "    }\n",
       "\n",
       "    .dataframe thead th {\n",
       "        text-align: right;\n",
       "    }\n",
       "</style>\n",
       "<table border=\"1\" class=\"dataframe\">\n",
       "  <thead>\n",
       "    <tr style=\"text-align: right;\">\n",
       "      <th></th>\n",
       "      <th>steps_past</th>\n",
       "      <th>init_flowers</th>\n",
       "      <th>max_clue_radius</th>\n",
       "    </tr>\n",
       "  </thead>\n",
       "  <tbody>\n",
       "    <tr>\n",
       "      <th>0</th>\n",
       "      <td>70</td>\n",
       "      <td>3</td>\n",
       "      <td>0</td>\n",
       "    </tr>\n",
       "    <tr>\n",
       "      <th>658</th>\n",
       "      <td>70</td>\n",
       "      <td>7</td>\n",
       "      <td>15</td>\n",
       "    </tr>\n",
       "    <tr>\n",
       "      <th>659</th>\n",
       "      <td>97</td>\n",
       "      <td>7</td>\n",
       "      <td>15</td>\n",
       "    </tr>\n",
       "    <tr>\n",
       "      <th>660</th>\n",
       "      <td>132</td>\n",
       "      <td>7</td>\n",
       "      <td>15</td>\n",
       "    </tr>\n",
       "    <tr>\n",
       "      <th>661</th>\n",
       "      <td>168</td>\n",
       "      <td>7</td>\n",
       "      <td>10</td>\n",
       "    </tr>\n",
       "    <tr>\n",
       "      <th>...</th>\n",
       "      <td>...</td>\n",
       "      <td>...</td>\n",
       "      <td>...</td>\n",
       "    </tr>\n",
       "    <tr>\n",
       "      <th>339</th>\n",
       "      <td>70</td>\n",
       "      <td>5</td>\n",
       "      <td>5</td>\n",
       "    </tr>\n",
       "    <tr>\n",
       "      <th>340</th>\n",
       "      <td>70</td>\n",
       "      <td>5</td>\n",
       "      <td>10</td>\n",
       "    </tr>\n",
       "    <tr>\n",
       "      <th>341</th>\n",
       "      <td>70</td>\n",
       "      <td>5</td>\n",
       "      <td>10</td>\n",
       "    </tr>\n",
       "    <tr>\n",
       "      <th>328</th>\n",
       "      <td>70</td>\n",
       "      <td>5</td>\n",
       "      <td>5</td>\n",
       "    </tr>\n",
       "    <tr>\n",
       "      <th>999</th>\n",
       "      <td>419</td>\n",
       "      <td>9</td>\n",
       "      <td>20</td>\n",
       "    </tr>\n",
       "  </tbody>\n",
       "</table>\n",
       "<p>1000 rows × 3 columns</p>\n",
       "</div>"
      ],
      "text/plain": [
       "     steps_past  init_flowers  max_clue_radius\n",
       "0            70             3                0\n",
       "658          70             7               15\n",
       "659          97             7               15\n",
       "660         132             7               15\n",
       "661         168             7               10\n",
       "..          ...           ...              ...\n",
       "339          70             5                5\n",
       "340          70             5               10\n",
       "341          70             5               10\n",
       "328          70             5                5\n",
       "999         419             9               20\n",
       "\n",
       "[1000 rows x 3 columns]"
      ]
     },
     "execution_count": 224,
     "metadata": {},
     "output_type": "execute_result"
    }
   ],
   "source": [
    "df = model_data[['Steps past', 'init_flowers', 'max_clue_radius']]\n",
    "df = df.rename(columns={'Steps past': 'steps_past'})\n",
    "df"
   ]
  },
  {
   "cell_type": "code",
   "execution_count": 213,
   "id": "9596d02a",
   "metadata": {},
   "outputs": [],
   "source": [
    "import matplotlib.pyplot as plt"
   ]
  },
  {
   "cell_type": "code",
   "execution_count": 265,
   "id": "9ded9cb1",
   "metadata": {},
   "outputs": [
    {
     "data": {
      "image/png": "[encoded data removed]",
      "text/plain": [
       "<Figure size 432x288 with 1 Axes>"
      ]
     },
     "metadata": {
      "needs_background": "light"
     },
     "output_type": "display_data"
    }
   ],
   "source": [
    "fig = plt.figure()\n",
    "for x in variable_params['init_flowers']:\n",
    "    data = df.loc[df['init_flowers'] == x].groupby('max_clue_radius').mean().drop('init_flowers',axis=1)\n",
    "    plt.plot(data, label=f'{x} flowers')\n",
    "\n",
    "plt.grid()\n",
    "plt.xticks(variable_params['max_clue_radius'])\n",
    "plt.legend()\n",
    "plt.xlabel('Max Clue Radius')\n",
    "plt.ylabel('Steps survived')\n",
    "plt.show()"
   ]
  },
  {
   "cell_type": "code",
   "execution_count": 248,
   "id": "af5e23a9",
   "metadata": {},
   "outputs": [
    {
     "data": {
      "text/plain": [
       "<AxesSubplot:>"
      ]
     },
     "execution_count": 248,
     "metadata": {},
     "output_type": "execute_result"
    },
    {
     "data": {
      "image/png": "[encoded data removed]",
      "text/plain": [
       "<Figure size 432x288 with 1 Axes>"
      ]
     },
     "metadata": {
      "needs_background": "light"
     },
     "output_type": "display_data"
    }
   ],
   "source": [
    "df.loc[df['init_flowers'] == 9]['steps_past'].hist(bins=100, cumulative=-1)"
   ]
  },
  {
   "cell_type": "code",
   "execution_count": 78,
   "id": "344e6bf3",
   "metadata": {},
   "outputs": [
    {
     "data": {
      "text/plain": [
       "Index(['steps_past'], dtype='object')"
      ]
     },
     "execution_count": 78,
     "metadata": {},
     "output_type": "execute_result"
    }
   ],
   "source": [
    "df.columns"
   ]
  },
  {
   "cell_type": "code",
   "execution_count": 234,
   "id": "f266d564",
   "metadata": {},
   "outputs": [
    {
     "data": {
      "text/plain": [
       "<AxesSubplot:>"
      ]
     },
     "execution_count": 234,
     "metadata": {},
     "output_type": "execute_result"
    },
    {
     "data": {
      "image/png": "[encoded data removed]",
      "text/plain": [
       "<Figure size 432x288 with 1 Axes>"
      ]
     },
     "metadata": {
      "needs_background": "light"
     },
     "output_type": "display_data"
    }
   ],
   "source": [
    "import matplotlib.pyplot as plt\n",
    "df.loc[df['init_flowers'] == 3]['steps_past'].hist(bins=100, cumulative=-1)"
   ]
  },
  {
   "cell_type": "code",
   "execution_count": null,
   "id": "6e5878dc",
   "metadata": {},
   "outputs": [],
   "source": [
    "df"
   ]
  },
  {
   "cell_type": "code",
   "execution_count": null,
   "id": "33b86db8",
   "metadata": {},
   "outputs": [],
   "source": [
    "collector_data"
   ]
  },
  {
   "cell_type": "code",
   "execution_count": null,
   "id": "ef58e1b3",
   "metadata": {},
   "outputs": [],
   "source": []
  }
 ],
 "metadata": {
  "kernelspec": {
   "display_name": "Python 3 (ipykernel)",
   "language": "python",
   "name": "python3"
  },
  "language_info": {
   "codemirror_mode": {
    "name": "ipython",
    "version": 3
   },
   "file_extension": ".py",
   "mimetype": "text/x-python",
   "name": "python",
   "nbconvert_exporter": "python",
   "pygments_lexer": "ipython3",
   "version": "3.9.7"
  }
 },
 "nbformat": 4,
 "nbformat_minor": 5
}
