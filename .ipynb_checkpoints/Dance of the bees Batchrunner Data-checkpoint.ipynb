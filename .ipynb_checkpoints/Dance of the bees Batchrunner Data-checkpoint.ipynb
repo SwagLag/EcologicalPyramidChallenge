{
 "cells": [
  {
   "cell_type": "markdown",
   "id": "f3db4963",
   "metadata": {},
   "source": [
    "# Dance of the bees\n",
    "Batchrunner Data\n",
    "\n",
    "Door Roeland Oostdam, Thijme de Bruijn, Gerrit van de Bunt\n",
    "\n",
    "ABD Challenge"
   ]
  },
  {
   "cell_type": "markdown",
   "id": "161ffc3d",
   "metadata": {},
   "source": [
    "# Gebruiksaanwijzing;\n",
    "1. **Geef het absolute pad op naar de folder waar de folder 'IntelligentBeesChallenge' zich in bevindt.**\n",
    "2. Stel parameters op voor de simulatie, deze kan je onderverdelen in variable en fixed parameters die je hier ook onder kan definieren. **Let op: voor variable parameters moet je een range object opgeven, of een lijst met alle mogelijke variaties van de parameter**\n",
    "3. Zorg ervoor dat alle parameters zijn ingedeeld in of variable of fixed parameters en run dan alle cells."
   ]
  },
  {
   "cell_type": "markdown",
   "id": "c1d8da28",
   "metadata": {},
   "source": [
    "# Parameters:\n",
    "\"height\" : Hoogte van de grid van de omgeving \\\n",
    "\"width : Breedte van de grid van de omgeving \\\n",
    "\"init_bees\" : Aantal bijen in de omgeving aan het begin \\\n",
    "\"init_flowers\" : Aantal bloemvelden in de omgeving aan het begin \\\n",
    "\"min_nectar\" : Minimale hoeveelheid nectar beschikbaar in bloemvelden \\\n",
    "\"max_nectar\" : Maximale hoeveelheid nectar beschikbaar in bloemvelden \\\n",
    "\"init_min_nectar_grade\" : Minimale kwaliteit nectar wat kan voorkomen \\\n",
    "\"init_max_nectar_grade\" : Maximale kwaliteit nectar wat kan voorkome \\\n",
    "\"nectar_respawn_interval\" : Aantal timesteps dat minimaal verstrijkt voordat nectar terug komt op een bloemenveld \\\n",
    "\"max_bee_energy\" : Capaciteit energie die een bij kan hebben nadat hij bij een bijenkorf geweest is en aan het begin \\\n",
    "\"collect_negative_value_nectar\" : Collect negative value nectar (?) \\\n",
    "\"perception_range\" : Hoe ver de bij kan zien om bloemenvelden/nectar te identificeren en op te slaan in memory. \\\n",
    "\"preset\": Of de simulatie telkens een vaste, al-gedefinieerde omgeving moet gebruiken (zie foto hieronder) \\\n",
    "\"max_clue_radius\": Hoe ver een gegeven clue op reset van de daadwerkelijke clue kan zitten (radius) \\\n",
    "\"min_flower_distance\": Hoe ver bloemen minimaal uit elkaar zitten (radius waarin geen bloemen rondom een bloem kan spawnen) \\\n",
    "\"hivemind_events\": Of bijen gegeven een aantal tijdstappen (zie hieronder) \\\n",
    "\"hivemind_interval\": Hoe lang het duurt in tijdstappen voordat telkens een hivemind event plaatsvindt, mits deze\n",
    "toegestaan zijn (zie hierboven)"
   ]
  },
  {
   "cell_type": "code",
   "execution_count": 1,
   "id": "65f23cf7",
   "metadata": {},
   "outputs": [],
   "source": [
    "# BATCHRUNNER PARAMS\n",
    "\n",
    "# Voorbeeld:\n",
    "# Als dit het pad is waar de notebook zich in bevindt;\n",
    "# C:\\Users\\gvand\\Projecten\\Pycharm\\ABD\\IntelligentBeesChallenge\\Dance of the bees Batchrunner Data.ipynb\n",
    "# Geef dan dit op als project path:\n",
    "# proj_path = r\"C:\\Users\\gvand\\Projecten\\Pycharm\\ABD\"\n",
    "\n",
    "proj_path = r\"C:\\Users\\gvand\\Projecten\\Pycharm\\ABD\"\n",
    "\n",
    "fixed_params = {\n",
    "    \"height\": 20,\n",
    "    \"width\": 20,\n",
    "    \"init_bees\": 3,\n",
    "    \"min_flower_distance\": 8,\n",
    "    \"init_min_nectar_grade\": 20,\n",
    "    \"init_max_nectar_grade\": 40,\n",
    "    \"min_nectar\": 2,\n",
    "    \"max_nectar\": 2,\n",
    "    \"nectar_respawn_interval\": 100,\n",
    "    \"collect_negative_value_nectar\": False,\n",
    "    \"perception_range\": 1,\n",
    "    \"max_bee_energy\": 10000, \n",
    "    \"preset\": False,\n",
    "    \"min_flower_distance\": 5,\n",
    "    \"init_flowers\": 8,\n",
    "    \"max_clue_radius\": 0,\n",
    "}\n",
    "\n",
    "variable_params = {\n",
    "    \"\"\n",
    "    \"hivemind_events\": [True, False],\n",
    "    \"hivemind_interval\": [1,5,15],\n",
    "}"
   ]
  },
  {
   "cell_type": "code",
   "execution_count": 2,
   "id": "797b3619",
   "metadata": {},
   "outputs": [],
   "source": [
    "# Zet content root op om import problemen te voorkomen\n",
    "import sys\n",
    "sys.path.insert(1, proj_path)"
   ]
  },
  {
   "cell_type": "code",
   "execution_count": 3,
   "id": "f5605f71",
   "metadata": {},
   "outputs": [],
   "source": [
    "# Importeer benodigde onderdelen voor de batchrunner\n",
    "from mesa.batchrunner import BatchRunner, BatchRunnerMP\n",
    "from bee_simulation.model import BeeSimulation, get_nectar_per_t, get_bee_energy, get_hive_energy, \\\n",
    "    get_nectar_collected, get_steps"
   ]
  },
  {
   "cell_type": "code",
   "execution_count": null,
   "id": "05df391e",
   "metadata": {
    "scrolled": true
   },
   "outputs": [
    {
     "name": "stderr",
     "output_type": "stream",
     "text": [
      "42it [00:23,  3.27it/s]"
     ]
    }
   ],
   "source": [
    "batch_run = BatchRunnerMP(BeeSimulation,\n",
    "                        nr_processes=10,\n",
    "                        variable_parameters=variable_params,\n",
    "                        fixed_parameters=fixed_params,\n",
    "                        iterations=100,\n",
    "                        max_steps=500,\n",
    "                        model_reporters={\n",
    "                            \"Nectar/T\": get_nectar_per_t,\n",
    "                            \"Nectar stored\": get_hive_energy,\n",
    "                            \"Nectar Collected\": get_nectar_collected,\n",
    "                            \"Steps past\": get_steps,\n",
    "                        })\n",
    "batch_run.run_all()\n",
    "model_data = batch_run.get_model_vars_dataframe()\n",
    "collector_data = batch_run.get_collector_model()"
   ]
  },
  {
   "cell_type": "code",
   "execution_count": null,
   "id": "481566cf",
   "metadata": {},
   "outputs": [],
   "source": [
    "model_data = batch_run.get_model_vars_dataframe()\n",
    "collector_data = batch_run.get_collector_model()"
   ]
  },
  {
   "cell_type": "code",
   "execution_count": null,
   "id": "82b3b447",
   "metadata": {},
   "outputs": [],
   "source": [
    "sorted_data = model_data.sort_index()"
   ]
  },
  {
   "cell_type": "code",
   "execution_count": null,
   "id": "c0981048",
   "metadata": {},
   "outputs": [],
   "source": [
    "sorted_data"
   ]
  },
  {
   "cell_type": "code",
   "execution_count": null,
   "id": "07c46951",
   "metadata": {},
   "outputs": [],
   "source": [
    "df = sorted_data[['Nectar/T', 'hivemind_events', 'hivemind_interval']]\n",
    "# df = df.rename(columns={'Steps past': 'steps_past'})\n",
    "df"
   ]
  },
  {
   "cell_type": "code",
   "execution_count": null,
   "id": "26712849",
   "metadata": {},
   "outputs": [],
   "source": [
    "# df.groupby('hivemind_events').mean()"
   ]
  },
  {
   "cell_type": "code",
   "execution_count": null,
   "id": "13885675",
   "metadata": {},
   "outputs": [],
   "source": [
    "# df.loc[df['Nectar/T'] == x].groupby('hivemind_events').mean()"
   ]
  },
  {
   "cell_type": "code",
   "execution_count": null,
   "id": "b4e2c069",
   "metadata": {},
   "outputs": [],
   "source": [
    "import matplotlib.pyplot as plt"
   ]
  },
  {
   "cell_type": "code",
   "execution_count": null,
   "id": "07682819",
   "metadata": {},
   "outputs": [],
   "source": [
    "# df.loc[df['hivemind_interval'] == x].groupby('hivemind_events').mean().drop('hivemind_interval',axis=1)"
   ]
  },
  {
   "cell_type": "code",
   "execution_count": null,
   "id": "985362ad",
   "metadata": {},
   "outputs": [],
   "source": [
    "fig = plt.figure(figsize=[10,5])\n",
    "for x in variable_params['hivemind_interval']:\n",
    "    data = df.loc[df['hivemind_interval'] == x].groupby('hivemind_events').mean().drop('hivemind_interval',axis=1)\n",
    "    plt.bar(data, label=f'Hivemind interval: {x}')\n",
    "\n",
    "plt.grid()\n",
    "plt.xticks(variable_params['hivemind_events'])\n",
    "plt.legend()\n",
    "plt.xlabel('Hivemind events (True/False)')\n",
    "plt.ylabel('Nectar/T')\n",
    "plt.show()"
   ]
  },
  {
   "cell_type": "code",
   "execution_count": null,
   "id": "73326d4c",
   "metadata": {},
   "outputs": [],
   "source": [
    "import numpy as np\n",
    "\n",
    "zz = []\n",
    "for x in variable_params['hivemind_interval']:\n",
    "    data = df.loc[df['hivemind_interval'] == x].groupby('hivemind_events').mean().drop('hivemind_interval',axis=1)\n",
    "    zz.append(data.iloc[1].values[0])\n",
    "print(np.mean(zz))"
   ]
  },
  {
   "cell_type": "code",
   "execution_count": null,
   "id": "4d324757",
   "metadata": {},
   "outputs": [],
   "source": [
    "names = [\"None\"]\n",
    "performances = [np.mean(zz)]\n",
    "for x in variable_params['hivemind_interval']:\n",
    "    names.append(str(x))\n",
    "    data = df.loc[df['hivemind_interval'] == x].groupby('hivemind_events').mean().drop('hivemind_interval',axis=1)\n",
    "    performances.append(data.iloc[0].values[0])\n",
    "    \n",
    "plt.bar(names,performances,align='center', alpha=0.5)"
   ]
  },
  {
   "cell_type": "code",
   "execution_count": null,
   "id": "ef1c8521",
   "metadata": {},
   "outputs": [],
   "source": [
    "performance \n",
    "\n",
    "fig = plt.figure(figsize=[10,5])\n",
    "for x in variable_params['hivemind_interval']:\n",
    "    data = df.loc[df['hivemind_interval'] == x].groupby('hivemind_events').mean().drop('hivemind_interval',axis=1)\n",
    "    plt.plot(data, label=f'Hivemind interval: {x}')\n",
    "\n",
    "plt.grid()\n",
    "plt.xticks(variable_params['hivemind_events'])\n",
    "plt.legend()\n",
    "plt.xlabel('Hivemind interval')\n",
    "plt.ylabel('Nectar/T')\n",
    "plt.show()"
   ]
  },
  {
   "cell_type": "code",
   "execution_count": null,
   "id": "f03def2d",
   "metadata": {},
   "outputs": [],
   "source": [
    "plt.figure(figsize=[10,5])\n",
    "plt.hist(df.loc[df['init_flowers'] == 9]['steps_past'], bins=100, cumulative=-1, label='9 flowers')\n",
    "plt.hist(df.loc[df['init_flowers'] == 7]['steps_past'], bins=100, cumulative=-1, label='7 flowers')\n",
    "plt.hist(df.loc[df['init_flowers'] == 5]['steps_past'], bins=100, cumulative=-1, label='5 flowers')\n",
    "plt.hist(df.loc[df['init_flowers'] == 3]['steps_past'], bins=100, cumulative=-1, label='3 flowers')\n",
    "\n",
    "plt.grid()\n",
    "plt.legend()\n",
    "plt.ylabel('Surviving bees')\n",
    "plt.xlabel('Steps survived')\n",
    "plt.show()"
   ]
  },
  {
   "cell_type": "code",
   "execution_count": null,
   "id": "0dbc7f6a",
   "metadata": {},
   "outputs": [],
   "source": [
    "df.columns"
   ]
  },
  {
   "cell_type": "code",
   "execution_count": null,
   "id": "f266d564",
   "metadata": {},
   "outputs": [],
   "source": [
    "import matplotlib.pyplot as plt\n",
    "df.loc[df['init_flowers'] == 3]['steps_past'].hist(bins=100, cumulative=-1)"
   ]
  },
  {
   "cell_type": "code",
   "execution_count": null,
   "id": "6e5878dc",
   "metadata": {},
   "outputs": [],
   "source": [
    "df"
   ]
  },
  {
   "cell_type": "code",
   "execution_count": null,
   "id": "33b86db8",
   "metadata": {},
   "outputs": [],
   "source": [
    "collector_data"
   ]
  },
  {
   "cell_type": "code",
   "execution_count": null,
   "id": "ef58e1b3",
   "metadata": {},
   "outputs": [],
   "source": []
  }
 ],
 "metadata": {
  "kernelspec": {
   "display_name": "Python 3 (ipykernel)",
   "language": "python",
   "name": "python3"
  },
  "language_info": {
   "codemirror_mode": {
    "name": "ipython",
    "version": 3
   },
   "file_extension": ".py",
   "mimetype": "text/x-python",
   "name": "python",
   "nbconvert_exporter": "python",
   "pygments_lexer": "ipython3",
   "version": "3.9.7"
  }
 },
 "nbformat": 4,
 "nbformat_minor": 5
}
