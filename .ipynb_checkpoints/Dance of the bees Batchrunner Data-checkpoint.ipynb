{
 "cells": [
  {
   "cell_type": "markdown",
   "id": "f3db4963",
   "metadata": {},
   "source": [
    "# Dance of the bees\n",
    "Batchrunner Data\n",
    "\n",
    "Door Roeland Oostdam, Thijme de Bruijn, Gerrit van de Bunt\n",
    "\n",
    "ABD Challenge"
   ]
  },
  {
   "cell_type": "markdown",
   "id": "161ffc3d",
   "metadata": {},
   "source": [
    "# Gebruiksaanwijzing;\n",
    "1. **Geef het absolute pad op naar de folder waar de folder 'IntelligentBeesChallenge' zich in bevindt.**\n",
    "2. Stel parameters op voor de simulatie, deze kan je onderverdelen in variable en fixed parameters die je hier ook onder kan definieren. **Let op: voor variable parameters moet je een range object opgeven**\n",
    "3. Zorg ervoor dat alle parameters zijn ingedeeld in of variable of fixed parameters en run dan alle cells."
   ]
  },
  {
   "cell_type": "markdown",
   "id": "c1d8da28",
   "metadata": {},
   "source": [
    "# Parameters:\n",
    "\"height\" : Hoogte van de grid van de omgeving \\\n",
    "\"width : Breedte van de grid van de omgeving \\\n",
    "\"init_bees\" : Aantal bijen in de omgeving aan het begin \\\n",
    "\"init_flowers\" : Aantal bloemvelden in de omgeving aan het begin \\\n",
    "\"min_nectar\" : Minimale hoeveelheid nectar beschikbaar in bloemvelden \\\n",
    "\"max_nectar\" : Maximale hoeveelheid nectar beschikbaar in bloemvelden \\\n",
    "\"init_min_nectar_grade\" : Minimale kwaliteit nectar wat kan voorkomen \\\n",
    "\"init_max_nectar_grade\" : Maximale kwaliteit nectar wat kan voorkome \\\n",
    "\"nectar_respawn_interval\" : Aantal timesteps dat minimaal verstrijkt voordat nectar terug komt op een bloemenveld \\\n",
    "\"max_bee_energy\" : Capaciteit energie die een bij kan hebben nadat hij bij een bijenkorf geweest is en aan het begin \\\n",
    "\"collect_negative_value_nectar\" : Collect negative value nectar (?) \\\n",
    "\"perception_range\" : Hoe ver de bij kan zien om bloemenvelden/nectar te identificeren en op te slaan in memory."
   ]
  },
  {
   "cell_type": "code",
   "execution_count": 3,
   "id": "65f23cf7",
   "metadata": {},
   "outputs": [
    {
     "ename": "ModuleNotFoundError",
     "evalue": "No module named 'bee_simulation.server.fixed_params'; 'bee_simulation.server' is not a package",
     "output_type": "error",
     "traceback": [
      "\u001b[1;31m---------------------------------------------------------------------------\u001b[0m",
      "\u001b[1;31mModuleNotFoundError\u001b[0m                       Traceback (most recent call last)",
      "\u001b[1;32m~\\AppData\\Local\\Temp/ipykernel_18684/3293358332.py\u001b[0m in \u001b[0;36m<module>\u001b[1;34m\u001b[0m\n\u001b[0;32m      9\u001b[0m \u001b[0mproj_path\u001b[0m \u001b[1;33m=\u001b[0m \u001b[1;34mr\"C:\\Users\\gvand\\Projecten\\Pycharm\\ABD\"\u001b[0m\u001b[1;33m\u001b[0m\u001b[1;33m\u001b[0m\u001b[0m\n\u001b[0;32m     10\u001b[0m \u001b[1;33m\u001b[0m\u001b[0m\n\u001b[1;32m---> 11\u001b[1;33m \u001b[1;32mimport\u001b[0m \u001b[0mbee_simulation\u001b[0m\u001b[1;33m.\u001b[0m\u001b[0mserver\u001b[0m\u001b[1;33m.\u001b[0m\u001b[0mfixed_params\u001b[0m\u001b[1;33m\u001b[0m\u001b[1;33m\u001b[0m\u001b[0m\n\u001b[0m\u001b[0;32m     12\u001b[0m \u001b[1;33m\u001b[0m\u001b[0m\n\u001b[0;32m     13\u001b[0m \u001b[1;31m# fixed_params = {\u001b[0m\u001b[1;33m\u001b[0m\u001b[1;33m\u001b[0m\u001b[0m\n",
      "\u001b[1;31mModuleNotFoundError\u001b[0m: No module named 'bee_simulation.server.fixed_params'; 'bee_simulation.server' is not a package"
     ]
    }
   ],
   "source": [
    "# BATCHRUNNER PARAMS\n",
    "\n",
    "# Voorbeeld:\n",
    "# Als dit het pad is waar de notebook zich in bevindt;\n",
    "# C:\\Users\\gvand\\Projecten\\Pycharm\\ABD\\IntelligentBeesChallenge\\Dance of the bees Batchrunner Data.ipynb\n",
    "# Geef dan dit op als project path:\n",
    "# proj_path = r\"C:\\Users\\gvand\\Projecten\\Pycharm\\ABD\"\n",
    "\n",
    "proj_path = r\"C:\\Users\\gvand\\Projecten\\Pycharm\\ABD\"\n",
    "\n",
    "fixed_params = {\n",
    "    \"height\": 30,\n",
    "    \"width\": 30,\n",
    "    \"init_bees\": 1,\n",
    "    \"init_flowers\": 20,\n",
    "    \"min_flower_distance\": 5,\n",
    "    \"init_min_nectar_grade\": 50,\n",
    "    \"init_max_nectar_grade\": 50,\n",
    "    \"min_nectar\": 2,\n",
    "    \"max_nectar\": 5,\n",
    "    \"nectar_respawn_interval\": 75,\n",
    "    \"collect_negative_value_nectar\": False,\n",
    "    \"perception_range\": 1,\n",
    "    \"max_bee_energy\": 50, \n",
    "}\n",
    "\n",
    "variable_params = {\n",
    "    \"max_clue_radius\": [0, 10, 20]\n",
    "}"
   ]
  },
  {
   "cell_type": "code",
   "execution_count": 14,
   "id": "797b3619",
   "metadata": {},
   "outputs": [],
   "source": [
    "# Zet content root op om import problemen te voorkomen\n",
    "import sys\n",
    "sys.path.insert(1, proj_path)"
   ]
  },
  {
   "cell_type": "code",
   "execution_count": 15,
   "id": "f5605f71",
   "metadata": {},
   "outputs": [],
   "source": [
    "# Importeer benodigde onderdelen voor de batchrunner\n",
    "from mesa.batchrunner import BatchRunner, BatchRunnerMP\n",
    "from bee_simulation.model import BeeSimulation, get_nectar_per_t, get_bee_energy, get_hive_energy, \\\n",
    "    get_nectar_collected, get_steps"
   ]
  },
  {
   "cell_type": "code",
   "execution_count": 1,
   "id": "05df391e",
   "metadata": {
    "scrolled": true
   },
   "outputs": [
    {
     "ename": "NameError",
     "evalue": "name 'BatchRunnerMP' is not defined",
     "output_type": "error",
     "traceback": [
      "\u001b[1;31m---------------------------------------------------------------------------\u001b[0m",
      "\u001b[1;31mNameError\u001b[0m                                 Traceback (most recent call last)",
      "\u001b[1;32m~\\AppData\\Local\\Temp/ipykernel_18684/2246224199.py\u001b[0m in \u001b[0;36m<module>\u001b[1;34m\u001b[0m\n\u001b[1;32m----> 1\u001b[1;33m batch_run = BatchRunnerMP(BeeSimulation,\n\u001b[0m\u001b[0;32m      2\u001b[0m                         \u001b[0mnr_processes\u001b[0m\u001b[1;33m=\u001b[0m\u001b[1;36m10\u001b[0m\u001b[1;33m,\u001b[0m\u001b[1;33m\u001b[0m\u001b[1;33m\u001b[0m\u001b[0m\n\u001b[0;32m      3\u001b[0m                         \u001b[0mvariable_parameters\u001b[0m\u001b[1;33m=\u001b[0m\u001b[0mvariable_params\u001b[0m\u001b[1;33m,\u001b[0m\u001b[1;33m\u001b[0m\u001b[1;33m\u001b[0m\u001b[0m\n\u001b[0;32m      4\u001b[0m                         \u001b[0mfixed_parameters\u001b[0m\u001b[1;33m=\u001b[0m\u001b[0mfixed_params\u001b[0m\u001b[1;33m,\u001b[0m\u001b[1;33m\u001b[0m\u001b[1;33m\u001b[0m\u001b[0m\n\u001b[0;32m      5\u001b[0m                         \u001b[0miterations\u001b[0m\u001b[1;33m=\u001b[0m\u001b[1;36m50\u001b[0m\u001b[1;33m,\u001b[0m\u001b[1;33m\u001b[0m\u001b[1;33m\u001b[0m\u001b[0m\n",
      "\u001b[1;31mNameError\u001b[0m: name 'BatchRunnerMP' is not defined"
     ]
    }
   ],
   "source": [
    "batch_run = BatchRunnerMP(BeeSimulation,\n",
    "                        nr_processes=10,\n",
    "                        variable_parameters=variable_params,\n",
    "                        fixed_parameters=fixed_params,\n",
    "                        iterations=50,\n",
    "                        max_steps=1000,\n",
    "                        model_reporters={\n",
    "                            \"Nectar/T\": get_nectar_per_t,\n",
    "                            \"Bee energy\": get_bee_energy,\n",
    "                            \"Nectar stored\": get_hive_energy,\n",
    "                            \"Nectar Collected\": get_nectar_collected,\n",
    "                            \"Steps past\": get_steps,\n",
    "                        })\n",
    "batch_run.run_all()\n",
    "model_data = batch_run.get_model_vars_dataframe()\n",
    "collector_data = batch_run.get_collector_model()"
   ]
  },
  {
   "cell_type": "code",
   "execution_count": null,
   "id": "07c46951",
   "metadata": {},
   "outputs": [],
   "source": [
    "data = model_data[['Steps past','max_clue_radius']].groupby(['max_clue_radius']).mean()\n",
    "data"
   ]
  },
  {
   "cell_type": "code",
   "execution_count": 7,
   "id": "f266d564",
   "metadata": {},
   "outputs": [
    {
     "data": {
      "text/plain": [
       "array([[<AxesSubplot:title={'center':'Steps past'}>]], dtype=object)"
      ]
     },
     "execution_count": 7,
     "metadata": {},
     "output_type": "execute_result"
    },
    {
     "data": {
      "image/png": "[encoded data removed]",
      "text/plain": [
       "<Figure size 432x288 with 1 Axes>"
      ]
     },
     "metadata": {
      "needs_background": "light"
     },
     "output_type": "display_data"
    }
   ],
   "source": [
    "import matplotlib.pyplot as plt\n",
    "df = model_data[[\"Steps past\"]]\n",
    "fig = plt.Figure(figsize=[500,500])\n",
    "df.hist(bins=100, cumulative=-1)"
   ]
  },
  {
   "cell_type": "code",
   "execution_count": null,
   "id": "6e5878dc",
   "metadata": {},
   "outputs": [],
   "source": [
    "df"
   ]
  },
  {
   "cell_type": "code",
   "execution_count": null,
   "id": "33b86db8",
   "metadata": {},
   "outputs": [],
   "source": [
    "collector_data"
   ]
  },
  {
   "cell_type": "code",
   "execution_count": null,
   "id": "ef58e1b3",
   "metadata": {},
   "outputs": [],
   "source": []
  }
 ],
 "metadata": {
  "kernelspec": {
   "display_name": "Python 3 (ipykernel)",
   "language": "python",
   "name": "python3"
  },
  "language_info": {
   "codemirror_mode": {
    "name": "ipython",
    "version": 3
   },
   "file_extension": ".py",
   "mimetype": "text/x-python",
   "name": "python",
   "nbconvert_exporter": "python",
   "pygments_lexer": "ipython3",
   "version": "3.9.7"
  }
 },
 "nbformat": 4,
 "nbformat_minor": 5
}
